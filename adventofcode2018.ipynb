{
 "cells": [
  {
   "cell_type": "markdown",
   "metadata": {},
   "source": [
    "# Day 1\n",
    "\n",
    "Starting with a frequency of zero, what is the resulting frequency after all of the changes in frequency have been applied?"
   ]
  },
  {
   "cell_type": "code",
   "execution_count": 50,
   "metadata": {},
   "outputs": [],
   "source": [
    "def get_freq(starting_freq, input_file):\n",
    "    freq = starting_freq\n",
    "    with open(input_file) as input:\n",
    "        for line in input:\n",
    "            freq += float(line)\n",
    "    return(freq)"
   ]
  },
  {
   "cell_type": "code",
   "execution_count": 51,
   "metadata": {},
   "outputs": [
    {
     "data": {
      "text/plain": [
       "433.0"
      ]
     },
     "execution_count": 51,
     "metadata": {},
     "output_type": "execute_result"
    }
   ],
   "source": [
    "get_freq(starting_freq = 0, input_file = \"day1_input.txt\")"
   ]
  },
  {
   "cell_type": "markdown",
   "metadata": {},
   "source": [
    "What is the first frequency your device reaches twice?"
   ]
  },
  {
   "cell_type": "code",
   "execution_count": 90,
   "metadata": {},
   "outputs": [],
   "source": [
    "def get_freqs_reached(starting_freq, input_list):\n",
    "\n",
    "    freq = starting_freq\n",
    "    reached_freqs = set()\n",
    "    x = 0\n",
    "    \n",
    "    while True:\n",
    "        for line in input_list:\n",
    "            if freq in reached_freqs:\n",
    "                return(freq)\n",
    "                \n",
    "            else:\n",
    "                reached_freqs.add(freq)\n",
    "                freq += line      "
   ]
  },
  {
   "cell_type": "code",
   "execution_count": 91,
   "metadata": {},
   "outputs": [
    {
     "data": {
      "text/plain": [
       "256.0"
      ]
     },
     "execution_count": 91,
     "metadata": {},
     "output_type": "execute_result"
    }
   ],
   "source": [
    "with open(input_file, mode = \"r\") as input:\n",
    "        input_lines = [float(line) for line in input.readlines()]\n",
    "\n",
    "get_freqs_reached(0, input_lines)"
   ]
  },
  {
   "cell_type": "markdown",
   "metadata": {},
   "source": [
    "# Day 2\n",
    "\n",
    "You scan the likely candidate boxes again, counting the number that have an ID containing exactly two of any letter and then separately counting those with exactly three of any letter. You can multiply those two counts together to get a rudimentary checksum and compare it to what your device predicts.\n",
    "\n",
    "What is the checksum for your list of box IDs?"
   ]
  },
  {
   "cell_type": "code",
   "execution_count": 50,
   "metadata": {},
   "outputs": [],
   "source": [
    "def count_multiple_occurrences(input, to_count = [2, 3]):\n",
    "    from string import ascii_lowercase \n",
    "    counts_list = [input.count(letter) for letter in list(ascii_lowercase)]\n",
    "    \n",
    "    output = { count: count in counts_list for count in to_count}\n",
    "    \n",
    "    return output"
   ]
  },
  {
   "cell_type": "code",
   "execution_count": 51,
   "metadata": {},
   "outputs": [],
   "source": [
    "def count_two_three(input_file):\n",
    "    with open(input_file) as input:\n",
    "        results_list = [count_multiple_occurrences(line) for line in input]\n",
    "    \n",
    "    two_sum = sum([int(item[2]) for item in results_list])\n",
    "    three_sum = sum([int(item[3]) for item in results_list])\n",
    "    \n",
    "    return(two_sum * three_sum)       "
   ]
  },
  {
   "cell_type": "code",
   "execution_count": 52,
   "metadata": {},
   "outputs": [
    {
     "data": {
      "text/plain": [
       "6200"
      ]
     },
     "execution_count": 52,
     "metadata": {},
     "output_type": "execute_result"
    }
   ],
   "source": [
    "count_two_three(\"day2_input.txt\")"
   ]
  },
  {
   "cell_type": "markdown",
   "metadata": {},
   "source": [
    "The boxes will have IDs which differ by exactly one character at the same position in both strings. What letters are common between the two correct box IDs? "
   ]
  },
  {
   "cell_type": "code",
   "execution_count": 99,
   "metadata": {},
   "outputs": [],
   "source": [
    "def get_matching_ids(input_file):\n",
    "    with open(input_file) as input:\n",
    "        id_list = [line.strip(\"\\n\") for line in input]\n",
    "    for test_id in id_list:\n",
    "        for test_id2 in id_list:\n",
    "            num_mismatches = sum([x != y for (x, y) in zip(test_id, test_id2)])\n",
    "\n",
    "            if num_mismatches == 1:\n",
    "                matches = [x == y for (x, y) in zip(test_id, test_id2)]\n",
    "                return(\"\".join([test_id[i] for i, match in enumerate(matches) if match]))\n",
    "\n",
    "\n"
   ]
  },
  {
   "cell_type": "code",
   "execution_count": 100,
   "metadata": {},
   "outputs": [
    {
     "data": {
      "text/plain": [
       "'xpysnnkqrbuhefmcajodplyzw'"
      ]
     },
     "execution_count": 100,
     "metadata": {},
     "output_type": "execute_result"
    }
   ],
   "source": [
    "get_matching_ids(\"day2_input.txt\")"
   ]
  },
  {
   "cell_type": "markdown",
   "metadata": {},
   "source": [
    "# Day 3 \n",
    "\n",
    "How many square inches of fabric are within two or more claims?"
   ]
  },
  {
   "cell_type": "code",
   "execution_count": 142,
   "metadata": {},
   "outputs": [],
   "source": [
    "claims = [\"#1 @ 1,3: 4x4\", \"#2 @ 3,1: 4x4\", \"#3 @ 5,5: 2x2\"]\n",
    "\n",
    "def parse_claim(claim):\n",
    "    import re\n",
    "    claim_id, at, x_idx, y_idx, blank, x_size, y_size = re.split(\" |,|x|:\", claim)\n",
    "    return({\"id\" : claim_id, \n",
    "            \"x_start\": int(x_idx), \"y_start\": int(y_idx), \n",
    "            \"x_end\": int(x_idx) + int(x_size), \"y_end\": int(y_idx) + int(y_size)})"
   ]
  },
  {
   "cell_type": "code",
   "execution_count": 144,
   "metadata": {},
   "outputs": [],
   "source": [
    "def calc_overlaps(claim_indexes):\n",
    "    import numpy as np\n",
    "    base_array = np.zeros((10000,10000))\n",
    "\n",
    "    for claim in claim_indexes:\n",
    "        base_array[claim[\"x_start\"] : claim[\"x_end\"], claim[\"y_start\"] : claim[\"y_end\"]] += 1\n",
    "    return(base_array, np.sum(base_array > 1))\n",
    "\n",
    "def solve_day3(input_file):\n",
    "    with open(input_file) as input:\n",
    "        claims = [line.strip(\"\\n\") for line in input]\n",
    "        \n",
    "    claim_indexes = [parse_claim(c) for c in claims]\n",
    "    \n",
    "    base_array, result = calc_overlaps(claim_indexes)\n",
    "    return(result)\n",
    "        "
   ]
  },
  {
   "cell_type": "code",
   "execution_count": 141,
   "metadata": {},
   "outputs": [
    {
     "data": {
      "text/plain": [
       "117505"
      ]
     },
     "execution_count": 141,
     "metadata": {},
     "output_type": "execute_result"
    }
   ],
   "source": [
    "solve_day3(\"day3_input.txt\")"
   ]
  },
  {
   "cell_type": "markdown",
   "metadata": {},
   "source": [
    "Amidst the chaos, you notice that exactly one claim doesn't overlap by even a single square inch of fabric with any other claim. If you can somehow draw attention to it, maybe the Elves will be able to make Santa's suit after all!\n",
    "\n",
    "What is the ID of the only claim that doesn't overlap?"
   ]
  },
  {
   "cell_type": "code",
   "execution_count": 159,
   "metadata": {},
   "outputs": [],
   "source": [
    "def solve_day3_part2(input_file):\n",
    "    with open(input_file) as input:\n",
    "        claims = [line.strip(\"\\n\") for line in input]\n",
    "        \n",
    "    claim_indexes = [parse_claim(c) for c in claims]\n",
    "    \n",
    "    base_array, result = calc_overlaps(claim_indexes)\n",
    "    \n",
    "    for claim in claim_indexes:\n",
    "        sub_array = base_array[claim[\"x_start\"] : claim[\"x_end\"], claim[\"y_start\"] : claim[\"y_end\"]]\n",
    "        if np.all(sub_array == 1):\n",
    "            claim_id = claim[\"id\"]\n",
    "            return(int(claim_id.replace(\"#\", \"\")))"
   ]
  },
  {
   "cell_type": "code",
   "execution_count": 160,
   "metadata": {},
   "outputs": [
    {
     "data": {
      "text/plain": [
       "1254"
      ]
     },
     "execution_count": 160,
     "metadata": {},
     "output_type": "execute_result"
    }
   ],
   "source": [
    "solve_day3_part2(\"day3_input.txt\")"
   ]
  },
  {
   "cell_type": "markdown",
   "metadata": {},
   "source": [
    "# Day 4\n",
    "\n",
    "Strategy 1: Find the guard that has the most minutes asleep. What minute does that guard spend asleep the most?\n"
   ]
  },
  {
   "cell_type": "code",
   "execution_count": 188,
   "metadata": {},
   "outputs": [
    {
     "name": "stdout",
     "output_type": "stream",
     "text": [
      "[{'time': datetime.datetime(1518, 11, 1, 0, 0), 'info': ' Guard #10 begins shift'}, {'time': datetime.datetime(1518, 11, 1, 0, 5), 'info': ' falls asleep'}, {'time': datetime.datetime(1518, 11, 1, 0, 25), 'info': ' wakes up'}, {'time': datetime.datetime(1518, 11, 1, 0, 30), 'info': ' falls asleep'}, {'time': datetime.datetime(1518, 11, 1, 0, 55), 'info': ' wakes up'}, {'time': datetime.datetime(1518, 11, 1, 23, 58), 'info': ' Guard #99 begins shift'}, {'time': datetime.datetime(1518, 11, 2, 0, 40), 'info': ' falls asleep'}, {'time': datetime.datetime(1518, 11, 2, 0, 50), 'info': ' wakes up'}, {'time': datetime.datetime(1518, 11, 3, 0, 5), 'info': ' Guard #10 begins shift'}, {'time': datetime.datetime(1518, 11, 3, 0, 24), 'info': ' falls asleep'}, {'time': datetime.datetime(1518, 11, 3, 0, 29), 'info': ' wakes up'}, {'time': datetime.datetime(1518, 11, 4, 0, 2), 'info': ' Guard #99 begins shift'}, {'time': datetime.datetime(1518, 11, 4, 0, 36), 'info': ' falls asleep'}, {'time': datetime.datetime(1518, 11, 4, 0, 46), 'info': ' wakes up'}, {'time': datetime.datetime(1518, 11, 5, 0, 3), 'info': ' Guard #99 begins shift'}, {'time': datetime.datetime(1518, 11, 5, 0, 45), 'info': ' falls asleep'}, {'time': datetime.datetime(1518, 11, 5, 0, 55), 'info': ' wakes up'}]\n"
     ]
    }
   ],
   "source": [
    "test_data = \"day4_test_data.txt\"\n",
    "\n",
    "with open(test_data) as input:\n",
    "    test_data = [line.strip(\"\\n\") for line in input]\n",
    "\n",
    "from datetime import datetime\n",
    "    \n",
    "def parse_line(line):\n",
    "    blank, time, info = re.split(\"\\[|\\]\", line)\n",
    "    time = datetime.strptime(time, \"%Y-%m-%d %H:%M\")\n",
    "    return({\"time\": time, \"info\": info})\n",
    "    #return(time)\n",
    "\n",
    "lines = [parse_line(line) for line in test_data]\n",
    "#print(lines)\n",
    "lines.sort(key=lambda item:item['time'])\n",
    "print(lines)"
   ]
  }
 ],
 "metadata": {
  "kernelspec": {
   "display_name": "Python 3",
   "language": "python",
   "name": "python3"
  },
  "language_info": {
   "codemirror_mode": {
    "name": "ipython",
    "version": 3
   },
   "file_extension": ".py",
   "mimetype": "text/x-python",
   "name": "python",
   "nbconvert_exporter": "python",
   "pygments_lexer": "ipython3",
   "version": "3.6.2"
  }
 },
 "nbformat": 4,
 "nbformat_minor": 2
}

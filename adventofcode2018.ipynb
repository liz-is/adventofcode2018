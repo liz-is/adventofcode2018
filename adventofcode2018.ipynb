{
 "cells": [
  {
   "cell_type": "markdown",
   "metadata": {},
   "source": [
    "# Day 1\n",
    "\n",
    "Starting with a frequency of zero, what is the resulting frequency after all of the changes in frequency have been applied?"
   ]
  },
  {
   "cell_type": "code",
   "execution_count": 50,
   "metadata": {},
   "outputs": [],
   "source": [
    "def get_freq(starting_freq, input_file):\n",
    "    freq = starting_freq\n",
    "    with open(input_file) as input:\n",
    "        for line in input:\n",
    "            freq += float(line)\n",
    "    return(freq)"
   ]
  },
  {
   "cell_type": "code",
   "execution_count": 51,
   "metadata": {},
   "outputs": [
    {
     "data": {
      "text/plain": [
       "433.0"
      ]
     },
     "execution_count": 51,
     "metadata": {},
     "output_type": "execute_result"
    }
   ],
   "source": [
    "get_freq(starting_freq = 0, input_file = \"day1_input.txt\")"
   ]
  },
  {
   "cell_type": "markdown",
   "metadata": {},
   "source": [
    "What is the first frequency your device reaches twice?"
   ]
  },
  {
   "cell_type": "code",
   "execution_count": 88,
   "metadata": {},
   "outputs": [],
   "source": [
    "def get_freqs_reached(starting_freq, input_list):\n",
    "\n",
    "    freq = starting_freq\n",
    "    reached_freqs = set()\n",
    "    x = 0\n",
    "    \n",
    "    while x == 0:\n",
    "        for line in input_list:\n",
    "            if freq in reached_freqs:\n",
    "                print(freq)\n",
    "                x = 1\n",
    "                break\n",
    "                \n",
    "            else:\n",
    "                reached_freqs.add(freq)\n",
    "                freq += line      "
   ]
  },
  {
   "cell_type": "code",
   "execution_count": 89,
   "metadata": {},
   "outputs": [
    {
     "name": "stdout",
     "output_type": "stream",
     "text": [
      "256.0\n"
     ]
    }
   ],
   "source": [
    "with open(input_file, mode = \"r\") as input:\n",
    "        input_lines = [float(line) for line in input.readlines()]\n",
    "\n",
    "get_freqs_reached(0, input_lines)"
   ]
  }
 ],
 "metadata": {
  "kernelspec": {
   "display_name": "Python 3",
   "language": "python",
   "name": "python3"
  },
  "language_info": {
   "codemirror_mode": {
    "name": "ipython",
    "version": 3
   },
   "file_extension": ".py",
   "mimetype": "text/x-python",
   "name": "python",
   "nbconvert_exporter": "python",
   "pygments_lexer": "ipython3",
   "version": "3.6.2"
  }
 },
 "nbformat": 4,
 "nbformat_minor": 2
}

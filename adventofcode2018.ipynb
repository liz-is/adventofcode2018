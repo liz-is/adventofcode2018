{
 "cells": [
  {
   "cell_type": "markdown",
   "metadata": {},
   "source": [
    "# Day 1\n",
    "\n",
    "Starting with a frequency of zero, what is the resulting frequency after all of the changes in frequency have been applied?"
   ]
  },
  {
   "cell_type": "code",
   "execution_count": 50,
   "metadata": {},
   "outputs": [],
   "source": [
    "def get_freq(starting_freq, input_file):\n",
    "    freq = starting_freq\n",
    "    with open(input_file) as input:\n",
    "        for line in input:\n",
    "            freq += float(line)\n",
    "    return(freq)"
   ]
  },
  {
   "cell_type": "code",
   "execution_count": 51,
   "metadata": {},
   "outputs": [
    {
     "data": {
      "text/plain": [
       "433.0"
      ]
     },
     "execution_count": 51,
     "metadata": {},
     "output_type": "execute_result"
    }
   ],
   "source": [
    "get_freq(starting_freq = 0, input_file = \"day1_input.txt\")"
   ]
  },
  {
   "cell_type": "markdown",
   "metadata": {},
   "source": [
    "What is the first frequency your device reaches twice?"
   ]
  },
  {
   "cell_type": "code",
   "execution_count": 90,
   "metadata": {},
   "outputs": [],
   "source": [
    "def get_freqs_reached(starting_freq, input_list):\n",
    "\n",
    "    freq = starting_freq\n",
    "    reached_freqs = set()\n",
    "    x = 0\n",
    "    \n",
    "    while True:\n",
    "        for line in input_list:\n",
    "            if freq in reached_freqs:\n",
    "                return(freq)\n",
    "                \n",
    "            else:\n",
    "                reached_freqs.add(freq)\n",
    "                freq += line      "
   ]
  },
  {
   "cell_type": "code",
   "execution_count": 91,
   "metadata": {},
   "outputs": [
    {
     "data": {
      "text/plain": [
       "256.0"
      ]
     },
     "execution_count": 91,
     "metadata": {},
     "output_type": "execute_result"
    }
   ],
   "source": [
    "with open(input_file, mode = \"r\") as input:\n",
    "        input_lines = [float(line) for line in input.readlines()]\n",
    "\n",
    "get_freqs_reached(0, input_lines)"
   ]
  },
  {
   "cell_type": "markdown",
   "metadata": {},
   "source": [
    "# Day 2\n",
    "\n",
    "You scan the likely candidate boxes again, counting the number that have an ID containing exactly two of any letter and then separately counting those with exactly three of any letter. You can multiply those two counts together to get a rudimentary checksum and compare it to what your device predicts.\n",
    "\n",
    "What is the checksum for your list of box IDs?"
   ]
  },
  {
   "cell_type": "code",
   "execution_count": 50,
   "metadata": {},
   "outputs": [],
   "source": [
    "def count_multiple_occurrences(input, to_count = [2, 3]):\n",
    "    from string import ascii_lowercase \n",
    "    counts_list = [input.count(letter) for letter in list(ascii_lowercase)]\n",
    "    \n",
    "    output = { count: count in counts_list for count in to_count}\n",
    "    \n",
    "    return output"
   ]
  },
  {
   "cell_type": "code",
   "execution_count": 51,
   "metadata": {},
   "outputs": [],
   "source": [
    "def count_two_three(input_file):\n",
    "    with open(input_file) as input:\n",
    "        results_list = [count_multiple_occurrences(line) for line in input]\n",
    "    \n",
    "    two_sum = sum([int(item[2]) for item in results_list])\n",
    "    three_sum = sum([int(item[3]) for item in results_list])\n",
    "    \n",
    "    return(two_sum * three_sum)       "
   ]
  },
  {
   "cell_type": "code",
   "execution_count": 52,
   "metadata": {},
   "outputs": [
    {
     "data": {
      "text/plain": [
       "6200"
      ]
     },
     "execution_count": 52,
     "metadata": {},
     "output_type": "execute_result"
    }
   ],
   "source": [
    "count_two_three(\"day2_input.txt\")"
   ]
  },
  {
   "cell_type": "markdown",
   "metadata": {},
   "source": [
    "The boxes will have IDs which differ by exactly one character at the same position in both strings. What letters are common between the two correct box IDs? "
   ]
  },
  {
   "cell_type": "code",
   "execution_count": 99,
   "metadata": {},
   "outputs": [],
   "source": [
    "def get_matching_ids(input_file):\n",
    "    with open(input_file) as input:\n",
    "        id_list = [line.strip(\"\\n\") for line in input]\n",
    "    for test_id in id_list:\n",
    "        for test_id2 in id_list:\n",
    "            num_mismatches = sum([x != y for (x, y) in zip(test_id, test_id2)])\n",
    "\n",
    "            if num_mismatches == 1:\n",
    "                matches = [x == y for (x, y) in zip(test_id, test_id2)]\n",
    "                return(\"\".join([test_id[i] for i, match in enumerate(matches) if match]))\n",
    "\n",
    "\n"
   ]
  },
  {
   "cell_type": "code",
   "execution_count": 100,
   "metadata": {},
   "outputs": [
    {
     "data": {
      "text/plain": [
       "'xpysnnkqrbuhefmcajodplyzw'"
      ]
     },
     "execution_count": 100,
     "metadata": {},
     "output_type": "execute_result"
    }
   ],
   "source": [
    "get_matching_ids(\"day2_input.txt\")"
   ]
  }
 ],
 "metadata": {
  "kernelspec": {
   "display_name": "Python 3",
   "language": "python",
   "name": "python3"
  },
  "language_info": {
   "codemirror_mode": {
    "name": "ipython",
    "version": 3
   },
   "file_extension": ".py",
   "mimetype": "text/x-python",
   "name": "python",
   "nbconvert_exporter": "python",
   "pygments_lexer": "ipython3",
   "version": "3.6.2"
  }
 },
 "nbformat": 4,
 "nbformat_minor": 2
}
